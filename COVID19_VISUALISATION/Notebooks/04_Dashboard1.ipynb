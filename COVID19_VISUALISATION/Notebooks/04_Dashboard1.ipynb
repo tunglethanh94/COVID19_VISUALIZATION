{
 "cells": [
  {
   "cell_type": "markdown",
   "id": "13ddf7cc",
   "metadata": {},
   "source": [
    "## Interactive Dashboard of COVID-19 Data\n",
    "\n",
    "In this section we created an **interactive dashboard** using the Dash framework.  \n",
    "The application allows users to select a country and view cumulative charts of the pandemic.\n",
    "\n",
    "### Key steps:\n",
    "- Filtered the dataset to keep only real countries.\n",
    "- Forward-filled cumulative values of cases and deaths for each country.\n",
    "- Prepared a list of available countries for the dropdown menu."
   ]
  },
  {
   "cell_type": "code",
   "execution_count": 2,
   "id": "9d434254",
   "metadata": {},
   "outputs": [],
   "source": [
    "# --- Imports ---\n",
    "import pandas as pd\n",
    "import plotly.express as px\n",
    "from dash import Dash, dcc, html\n",
    "from dash.dependencies import Input, Output\n",
    "\n",
    "# --- Load data ---\n",
    "file_path = \"../Data/Covid_19_dataset.csv\"\n",
    "df = pd.read_csv(file_path)\n",
    "\n",
    "# Ensure datetime\n",
    "df[\"date\"] = pd.to_datetime(df[\"date\"], errors=\"coerce\")\n",
    "\n",
    "# --- Project palette (consistent with previous notebooks) ---\n",
    "project_palette = [\"#0474ed\",\"#91f0fa\",\"#08a29e\",\"#a2b458\",\"#a6cabd\",\"#326164\"]\n",
    "\n",
    "# for Plotly Express figures in Dash\n",
    "palette_dash = project_palette"
   ]
  },
  {
   "cell_type": "code",
   "execution_count": 6,
   "id": "70f6f9d6",
   "metadata": {},
   "outputs": [],
   "source": [
    "# --- Clean & prepare ---\n",
    "df[\"date\"] = pd.to_datetime(df[\"date\"], errors=\"coerce\")\n",
    "df = df[~df[\"iso_code\"].str.startswith(\"OWID_\")].copy()        # keep real countries only\n",
    "df = df.sort_values([\"location\", \"date\"])\n",
    "df[[\"total_cases\",\"total_deaths\"]] = df.groupby(\"location\")[[\"total_cases\",\"total_deaths\"]].ffill()\n",
    "\n",
    "countries = sorted(df[\"location\"].dropna().unique().tolist())\n",
    "default_country = \"Czechia\" if \"Czechia\" in countries else countries[0]\n",
    "\n",
    "# --- Palette (same project colors) ---\n",
    "palette_dash = [\"#0474ed\",\"#91f0fa\",\"#08a29e\",\"#a2b458\",\"#a6cabd\",\"#326164\"]\n",
    "cases_color, deaths_color = palette_dash[0], palette_dash[3]\n",
    "\n",
    "# --- App ---\n",
    "app = Dash(__name__)\n",
    "app.title = \"COVID-19 — Cumulative Charts\"\n",
    "\n",
    "APP_WIDTH = 1200\n",
    "\n",
    "app.layout = html.Div(\n",
    "    style={\n",
    "        \"fontFamily\": \"Arial, sans-serif\",\n",
    "        \"background\": \"#fff\",          # celé bílé\n",
    "        \"padding\": \"16px\",\n",
    "        \"width\": f\"{APP_WIDTH}px\",\n",
    "        \"margin\": \"0 auto\"             # vycentrovat v notebooku\n",
    "    },\n",
    "    children=[\n",
    "        html.H2(id=\"page-title\",\n",
    "                style={\"marginBottom\":\"8px\",\"color\":\"#111\"}),\n",
    "\n",
    "        html.Div(\n",
    "            [\n",
    "                html.Label(\"Select country:\",\n",
    "                           style={\"fontWeight\":\"600\",\"marginRight\":\"8px\",\"color\":\"#111\"}),\n",
    "                dcc.Dropdown(\n",
    "                    id=\"country-dropdown\",\n",
    "                    options=[{\"label\": c, \"value\": c} for c in countries],\n",
    "                    value=default_country,\n",
    "                    clearable=False,\n",
    "                    style={\"width\":\"420px\"}\n",
    "                )\n",
    "            ],\n",
    "            style={\"marginBottom\":\"12px\"}\n",
    "        ),\n",
    "\n",
    "        html.Div(\n",
    "            [\n",
    "                dcc.Graph(id=\"cases-chart\"),\n",
    "                dcc.Graph(id=\"deaths-chart\"),\n",
    "            ],\n",
    "            style={\"display\":\"grid\",\"gridTemplateColumns\":\"1fr 1fr\",\"gap\":\"16px\"}\n",
    "        ),\n",
    "    ]\n",
    ")\n",
    "\n",
    "# --- Callbacks ---\n",
    "@app.callback(\n",
    "    Output(\"page-title\", \"children\"),\n",
    "    Output(\"cases-chart\", \"figure\"),\n",
    "    Output(\"deaths-chart\", \"figure\"),\n",
    "    Input(\"country-dropdown\", \"value\")\n",
    ")\n",
    "def update_dashboard(country):\n",
    "    d = df[df[\"location\"] == country].sort_values(\"date\")[[\"date\",\"total_cases\",\"total_deaths\"]].dropna(subset=[\"date\"])\n",
    "\n",
    "    title = f\"Cumulative cases and deaths in {country}\"\n",
    "\n",
    "    fig_cases = px.line(\n",
    "        d, x=\"date\", y=\"total_cases\",\n",
    "        labels={\"date\":\"Date\",\"total_cases\":\"Cumulative Cases\"},\n",
    "        title=f\"Cumulative Cases — {country}\",\n",
    "    )\n",
    "    fig_cases.update_traces(line=dict(width=2, color=cases_color))\n",
    "    fig_cases.update_layout(margin=dict(l=10,r=10,t=50,b=10), height=420)\n",
    "\n",
    "    fig_deaths = px.line(\n",
    "        d, x=\"date\", y=\"total_deaths\",\n",
    "        labels={\"date\":\"Date\",\"total_deaths\":\"Cumulative Deaths\"},\n",
    "        title=f\"Cumulative Deaths — {country}\",\n",
    "    )\n",
    "    fig_deaths.update_traces(line=dict(width=2, color=deaths_color))\n",
    "    fig_deaths.update_layout(margin=dict(l=10,r=10,t=50,b=10), height=420)\n",
    "\n",
    "    return title, fig_cases, fig_deaths"
   ]
  },
  {
   "cell_type": "markdown",
   "id": "9d01875e",
   "metadata": {},
   "source": [
    "## Explanation\n",
    "\n",
    "**Cumulative cases** represent the total number of confirmed infections up to each date.  \n",
    "**Cumulative deaths** represent the total number of reported fatalities up to each date.  \n",
    "\n",
    "Unlike daily numbers, cumulative values never decrease — they either grow or stay flat.  \n",
    "This makes it easier to compare the overall scale and timing of the pandemic across countries."
   ]
  },
  {
   "cell_type": "code",
   "execution_count": 7,
   "id": "95ce1a90",
   "metadata": {},
   "outputs": [
    {
     "data": {
      "text/html": [
       "\n",
       "        <iframe\n",
       "            width=\"100%\"\n",
       "            height=\"650\"\n",
       "            src=\"http://127.0.0.1:8050/\"\n",
       "            frameborder=\"0\"\n",
       "            allowfullscreen\n",
       "            \n",
       "        ></iframe>\n",
       "        "
      ],
      "text/plain": [
       "<IPython.lib.display.IFrame at 0x117c1787b10>"
      ]
     },
     "metadata": {},
     "output_type": "display_data"
    }
   ],
   "source": [
    "app.run(debug=True, use_reloader=False)"
   ]
  },
  {
   "cell_type": "markdown",
   "id": "3f04acd8",
   "metadata": {},
   "source": [
    "![Deaths](../Assets/graph5_deaths.png)\n",
    "![Deaths trend](../Assets/graph6_deaths.png)"
   ]
  },
  {
   "cell_type": "markdown",
   "id": "a0dfce92",
   "metadata": {},
   "source": [
    "## Summary\n",
    "\n",
    "The dashboard shows that cumulative cases and cumulative deaths in each country  \n",
    "follow very similar patterns over time. This strong resemblance is unlikely to be a coincidence,  \n",
    "but rather reflects the close relationship between the spread of infections and the resulting fatalities."
   ]
  }
 ],
 "metadata": {
  "kernelspec": {
   "display_name": "Python (hockey)",
   "language": "python",
   "name": "hockey"
  },
  "language_info": {
   "codemirror_mode": {
    "name": "ipython",
    "version": 3
   },
   "file_extension": ".py",
   "mimetype": "text/x-python",
   "name": "python",
   "nbconvert_exporter": "python",
   "pygments_lexer": "ipython3",
   "version": "3.13.5"
  }
 },
 "nbformat": 4,
 "nbformat_minor": 5
}
