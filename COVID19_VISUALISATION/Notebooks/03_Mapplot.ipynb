{
 "cells": [
  {
   "cell_type": "markdown",
   "id": "e9ea0a7a",
   "metadata": {},
   "source": [
    "## World Map of COVID-19 Cases\n",
    "\n",
    "In this section we created a **worldwide map visualization** of the COVID-19 pandemic data.  \n",
    "The goal was to clearly show the spread of total reported cases relative to the population of each country.\n",
    "\n",
    "### Key steps:\n",
    "- Converted the date column to a proper datetime format.\n",
    "- Removed aggregates (`OWID_*`) to keep only real countries.\n",
    "- Forward-filled cumulative metrics within each country.\n",
    "- Selected the latest available observation for each country.\n",
    "- Computed **cases per capita** to normalize values by population."
   ]
  },
  {
   "cell_type": "code",
   "execution_count": 1,
   "id": "cae5dfdb",
   "metadata": {},
   "outputs": [],
   "source": [
    "# --- Imports ---\n",
    "import pandas as pd\n",
    "import numpy as np\n",
    "import seaborn as sns\n",
    "import matplotlib.pyplot as plt\n",
    "from matplotlib.ticker import FuncFormatter\n",
    "import plotly.express as px\n",
    "import plotly.graph_objects as go"
   ]
  },
  {
   "cell_type": "code",
   "execution_count": 8,
   "id": "08ee7f89",
   "metadata": {},
   "outputs": [],
   "source": [
    "# --- Load data ---\n",
    "file_path = \"../Data/Covid_19_dataset.csv\"\n",
    "df = pd.read_csv(file_path)\n",
    "\n",
    "# --- Convert date to datetime ---\n",
    "df[\"date\"] = pd.to_datetime(df[\"date\"], errors=\"coerce\")\n",
    "\n",
    "# Project color palette (same for Seaborn & Plotly)\n",
    "project_palette = [\"#0474ed\",\"#91f0fa\",\"#08a29e\",\"#a2b458\",\"#a6cabd\",\"#326164\"]\n",
    "\n",
    "# Seaborn will use this\n",
    "palette_seaborn = project_palette * 2\n",
    "\n",
    "# Plotly will use this\n",
    "palette_plotly = project_palette"
   ]
  },
  {
   "cell_type": "code",
   "execution_count": 13,
   "id": "0b6d8cd9",
   "metadata": {},
   "outputs": [
    {
     "data": {
      "application/vnd.plotly.v1+json": {
       "config": {
        "plotlyServerURL": "https://plot.ly"
       },
       "data": [
        {
         "customdata": {
          "bdata": "AAAAAICF40C/Xes/qd7XPwAAAACwK/pAAAAAAAAAKUDEQq1p3n1RwAAAAAAAXKpAaFSxh7ONzD8AAAAAgIrNQAAAAAAAQDJAIR/0bFaVT8AAAAAAgMLAQKMyezkZQLY/AAAAAIAa+EDNzMzMzAwxQGZmZmZm5k7AAAAAAGBi4UDlfe1rjPa2PwAAAADIORhBAAAAAABAOEAAAAAAAABTwAAAAADAO+5AqiM9wMCSwz8AAAAAzLYYQQAAAAAAQDFAAAAAAAAwVsAAAAAAAMnOQEBIwWgQP9A/AAAAAIBR7kDf4AuTqSpAQAAAAAAAMFDAAAAAAKA49EBU279JqWzSPwAAAABwjxFBhXzQs1lVKkB4eqUsQ8RNwAAAAADA801B9MYHqqFmuj8AAABI9iaCQQAAAAAAAE5AAAAAAADAV8AAAAAAzJ0rQcUzh/kaisY/AAAAQJuaU0EAAAAAAAAkQAAAAAAAAFXAAAAAAEHfMEGkQlQB7AK5PwAAAEAflmVBAAAAAACANUAAAAAAAABUwAAAAABAK9pAL9YWqlXK2T8AAAAAIDzwQAAAAAAAgDNAAAAAAAAgVMAAAAAAgN7MQJR5ZTD3Nso/AAAAAMCe8UCFfNCzWdUuQN/gC5Opqk7AAAAAAK4vIkEIUFDS2tqrPwAAAEB+5GRBAAAAAAAAM0CRD3o2q6pRwAAAAADAsNFAI0H7CFWExD8AAAAAcJf7QOviNhrAOyhAIR/0bFbVTsAAAAAAgGHHQLkWAizU8co/AAAAAIDE60AAAAAAAABSQAAAAAAAAETAAAAAAFLcKkE/wmePcbGoPwAAAMCIZ3FBAAAAAAAAL0AAAAAAAJBWwAAAAAC8ARpBdGI2dvOtpT8AAABAkjFjQQAAAAAAAC5AAAAAAACgVcAAAAAAgFPeQNZFqXGWCmY/AAAAYJYDZkEAAAAAAAAzQJEPejarGlLAAAAAANA/AUH5SaCR2lSoPwAAAACLr0ZBAAAAAABAMkAAAAAAAGBTwAAAAAAAC7dA6RYU3+YzvD8AAAAAQCXqQL7BFyZTVTFAAAAAAABgT8AAAAAAgBjaQEfZs7R9jMI/AAAAAIiCBkEVHcnlP8QrQEVHcvkPkU7AAAAAAG1TVkFCvh2Y+gCnPwAAADCTDp9BAAAAAAAAN0AAAAAAAIBZwAAAAAAAuI9ASGhnFEcVyj8AAAAAAHWzQAAAAAAAwDBAmpmZmZkZT8AAAAAAgI3MQCUE6Hs83mE/AAAAwEqRWUEAAAAAAAAqQAAAAAAAQFXAAAAAAOSJK0Fqc/Pdj1zKPwAAAMDjtlBBAAAAAAAAIkAAAAAAAABUwAAAAAAwCQRBx4L8WrbImT8AAAAAud1YQXuDL0ymqitAkQ96Nqs6VsAAAAAAAJ6lQGIrSmiTr94/AAAAAACLtkDf4AuTqWpHQN/gC5OpKkzAAAAAAAAtuEBEN27UETLEPwAAAABAJ+NAAAAAAADANUBv8IXJVOVRwAAAAABQOgRBnohrCkk6vj8AAAAA7mk1QQAAAAAAACZAAAAAAACATsAAAAAYH4+UQfw3jwzAk9A/AAAAguHXs0EAAAAAAABDQAAAAAAAQFjAAAAAAAB+wUAYi8vP95q0PwAAAABQKvtAAAAAAACAKkCamZmZmZlOwAAAAAAAHbtABw9q3AI0zT8AAAAAwLXdQAAAAAAAgDJAAAAAAAAgUMA=",
          "dtype": "f8",
          "shape": "32, 5"
         },
         "geo": "geo",
         "hovertemplate": "<b>%{hovertext}</b><br><br>Continent=North America<br>Cases per Person=%{customdata[1]:.2%}<br>Total Cases=%{customdata[0]:,}<br>Population=%{customdata[2]:,}<extra></extra>",
         "hovertext": [
          "Aruba",
          "Anguilla",
          "Antigua and Barbuda",
          "Bahamas",
          "Belize",
          "Bermuda",
          "Barbados",
          "Canada",
          "Costa Rica",
          "Cuba",
          "Cayman Islands",
          "Dominica",
          "Dominican Republic",
          "Grenada",
          "Greenland",
          "Guatemala",
          "Honduras",
          "Haiti",
          "Jamaica",
          "Saint Kitts and Nevis",
          "Saint Lucia",
          "Mexico",
          "Montserrat",
          "Nicaragua",
          "Panama",
          "El Salvador",
          "Saint Pierre and Miquelon",
          "Turks and Caicos Islands",
          "Trinidad and Tobago",
          "United States",
          "Saint Vincent and the Grenadines",
          "British Virgin Islands"
         ],
         "lat": {
          "bdata": "AAAAAAAAKUAAAAAAAEAyQM3MzMzMDDFAAAAAAABAOEAAAAAAAEAxQN/gC5OpKkBAhXzQs1lVKkAAAAAAAABOQAAAAAAAACRAAAAAAACANUAAAAAAAIAzQIV80LNZ1S5AAAAAAAAAM0Dr4jYawDsoQAAAAAAAAFJAAAAAAAAAL0AAAAAAAAAuQAAAAAAAADNAAAAAAABAMkC+wRcmU1UxQBUdyeU/xCtAAAAAAAAAN0AAAAAAAMAwQAAAAAAAACpAAAAAAAAAIkB7gy9MpqorQN/gC5OpakdAAAAAAADANUAAAAAAAAAmQAAAAAAAAENAAAAAAACAKkAAAAAAAIAyQA==",
          "dtype": "f8"
         },
         "legendgroup": "North America",
         "lon": {
          "bdata": "xEKtad59UcAhH/RsVpVPwGZmZmZm5k7AAAAAAAAAU8AAAAAAADBWwAAAAAAAMFDAeHqlLEPETcAAAAAAAMBXwAAAAAAAAFXAAAAAAAAAVMAAAAAAACBUwN/gC5Opqk7AkQ96NquqUcAhH/RsVtVOwAAAAAAAAETAAAAAAACQVsAAAAAAAKBVwJEPejarGlLAAAAAAABgU8AAAAAAAGBPwEVHcvkPkU7AAAAAAACAWcCamZmZmRlPwAAAAAAAQFXAAAAAAAAAVMCRD3o2qzpWwN/gC5OpKkzAb/CFyVTlUcAAAAAAAIBOwAAAAAAAQFjAmpmZmZmZTsAAAAAAACBQwA==",
          "dtype": "f8"
         },
         "marker": {
          "color": "#0474ed",
          "size": {
           "bdata": "v13rP6ne1z9oVLGHs43MP6MyezkZQLY/5X3ta4z2tj+qIz3AwJLDP0BIwWgQP9A/VNu/Sals0j/0xgeqoWa6P8Uzh/kaisY/pEJUAewCuT8v1haqVcrZP5R5ZTD3Nso/CFBQ0traqz8jQfsIVYTEP7kWAizU8co/P8Jnj3GxqD90YjZ2862lP9ZFqXGWCmY/+UmgkdpUqD/pFhTf5jO8P0fZs7R9jMI/Qr4dmPoApz9IaGcURxXKPyUE6Hs83mE/anPz3Y9cyj/HgvxatsiZP2IrSmiTr94/RDdu1BEyxD+eiGsKSTq+P/w3jwzAk9A/GIvLz/eatD8HD2rcAjTNPw==",
           "dtype": "f8"
          },
          "sizemode": "area",
          "sizeref": 0.00034890958205196544,
          "symbol": "circle"
         },
         "mode": "markers",
         "name": "North America",
         "showlegend": true,
         "type": "scattergeo"
        },
        {
         "customdata": {
          "bdata": "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",
          "dtype": "f8",
          "shape": "49, 5"
         },
         "geo": "geo",
         "hovertemplate": "<b>%{hovertext}</b><br><br>Continent=Asia<br>Cases per Person=%{customdata[1]:.2%}<br>Total Cases=%{customdata[0]:,}<br>Population=%{customdata[2]:,}<extra></extra>",
         "hovertext": [
          "Afghanistan",
          "United Arab Emirates",
          "Armenia",
          "Azerbaijan",
          "Bangladesh",
          "Bahrain",
          "Brunei",
          "Bhutan",
          "China",
          "Georgia",
          "Hong Kong",
          "Indonesia",
          "India",
          "Iran",
          "Iraq",
          "Israel",
          "Jordan",
          "Japan",
          "Kazakhstan",
          "Kyrgyzstan",
          "Cambodia",
          "South Korea",
          "Kuwait",
          "Laos",
          "Lebanon",
          "Sri Lanka",
          "Macao",
          "Maldives",
          "Myanmar",
          "Mongolia",
          "Malaysia",
          "Nepal",
          "Oman",
          "Pakistan",
          "Philippines",
          "North Korea",
          "Palestine",
          "Qatar",
          "Saudi Arabia",
          "Singapore",
          "Syria",
          "Thailand",
          "Tajikistan",
          "Timor",
          "Turkey",
          "Taiwan",
          "Uzbekistan",
          "Vietnam",
          "Yemen"
         ],
         "lat": {
          "bdata": "AAAAAACAQEAAAAAAAAA4QAAAAAAAAERAAAAAAABAREAAAAAAAAA4QAAAAAAAADpAAAAAAAAAEkAAAAAAAIA7QAAAAAAAgEFAAAAAAAAARUAAAAAAAEA2QAAAAAAAABTAAAAAAAAANEAAAAAAAABAQAAAAAAAgEBAAAAAAACAP0AAAAAAAAA/QAAAAAAAAEJAAAAAAAAASEAAAAAAAIBEQAAAAAAAACpAAAAAAACAQkBmZmZmZlY9QAAAAAAAADJA3+ALk6nqQEAAAAAAAAAcQEI+6NmsKjZAAAAAAAAACkAAAAAAAAA2QAAAAAAAAEdAAAAAAAAABEAAAAAAAAA8QAAAAAAAADVAAAAAAAAAPkAAAAAAAAAqQAAAAAAAAERAAAAAAAAAQEAAAAAAAIA5QAAAAAAAADlAWRe30QDe9T8AAAAAAIBBQAAAAAAAAC5AAAAAAACAQ0CamZmZmRkhwAAAAAAAgENAAAAAAACAN0AAAAAAAIBEQAAAAAAAADBAAAAAAAAALkA=",
          "dtype": "f8"
         },
         "legendgroup": "Asia",
         "lon": {
          "bdata": "AAAAAABAUEAAAAAAAABLQAAAAAAAgEZAAAAAAADAR0AAAAAAAIBWQGZmZmZmRklAkQ96NquqXEAAAAAAAKBWQAAAAAAAQFpAAAAAAADARUCRD3o2q4pcQAAAAAAAAF5AAAAAAABAU0AAAAAAAIBKQAAAAAAAAEZAAAAAAABgQUAAAAAAAABCQAAAAAAAQGFAAAAAAAAAUUAAAAAAAMBSQAAAAAAAQFpAAAAAAADgX0Cxv+yePNRHQAAAAAAAQFpA3+ALk6nqQUAAAAAAAEBUQDMzMzMzY1xAAAAAAABAUkAAAAAAAIBYQAAAAAAAQFpAAAAAAAAgXEAAAAAAAABVQAAAAAAAgExAAAAAAACAUUAAAAAAAIBeQAAAAAAAwF9AAAAAAACgQUAAAAAAAKBJQAAAAAAAgEZAMzMzMzPzWUAAAAAAAABDQAAAAAAAAFlAAAAAAADAUUD3deCcEWFfQAAAAAAAgEFAAAAAAABAXkAAAAAAAABQQAAAAAAAgFpAAAAAAAAASEA=",
          "dtype": "f8"
         },
         "marker": {
          "color": "#91f0fa",
          "size": {
           "bdata": "+5rjkISrcj/Moeh5Ybm3P5aOcQRjPsI/X2McV1/bsz8jJfIFohWIP4TdvjDpGtY/vxhOan2t1j+nVVRH9pOzPxn1foc7IUQ/n7zLvsqs2j9SQo0bdsTEP6S/XcHJepY/tJS7r3fRnz/7a7udEsi1PxVYxRA+/qw/BxIZp6wc3T8Gm51FMynFP1eLxlX2h7I/AQgRjILNsj90XGN99w2fP9AlMh+qd4A/PCS+moHM1j83MEhCJePCP52lnTfsKp0//2vevqncxD/vZeY1zaCfPxfXlU0JhiA/UXQrQ1Uw1T8p1rIiwOyGP8V1I81mztE/LF7cgcm5wT+E1gJDseWgP6OzSLgqGrM/0CCnFzfdez+zdV7FFgqhPwvAVs0tvWQ+L7pEM/kgwD+mREHrPmDAPwZ/bOm6tpY/u510rn0D0D8WtHACEBBpP4SPWu8Xd7A/G2EhrpDjXT+xsGu9lnuRP7/IoEO4tMY/yG4MJK9owT9elD7XC+l8P6kJhG3t/7s/pyZQc4FpOT8=",
           "dtype": "f8"
          },
          "sizemode": "area",
          "sizeref": 0.00034890958205196544,
          "symbol": "circle"
         },
         "mode": "markers",
         "name": "Asia",
         "showlegend": true,
         "type": "scattergeo"
        },
        {
         "customdata": {
          "bdata": "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",
          "dtype": "f8",
          "shape": "55, 5"
         },
         "geo": "geo",
         "hovertemplate": "<b>%{hovertext}</b><br><br>Continent=Africa<br>Cases per Person=%{customdata[1]:.2%}<br>Total Cases=%{customdata[0]:,}<br>Population=%{customdata[2]:,}<extra></extra>",
         "hovertext": [
          "Angola",
          "Burundi",
          "Benin",
          "Burkina Faso",
          "Botswana",
          "Central African Republic",
          "Cote d'Ivoire",
          "Cameroon",
          "Democratic Republic of Congo",
          "Congo",
          "Comoros",
          "Cape Verde",
          "Djibouti",
          "Algeria",
          "Egypt",
          "Eritrea",
          "Ethiopia",
          "Gabon",
          "Ghana",
          "Guinea",
          "Gambia",
          "Guinea-Bissau",
          "Equatorial Guinea",
          "Kenya",
          "Liberia",
          "Libya",
          "Lesotho",
          "Morocco",
          "Madagascar",
          "Mali",
          "Mozambique",
          "Mauritania",
          "Mauritius",
          "Malawi",
          "Namibia",
          "Niger",
          "Nigeria",
          "Rwanda",
          "Sudan",
          "Senegal",
          "Saint Helena",
          "Sierra Leone",
          "Somalia",
          "South Sudan",
          "Sao Tome and Principe",
          "Eswatini",
          "Seychelles",
          "Chad",
          "Togo",
          "Tunisia",
          "Tanzania",
          "Uganda",
          "South Africa",
          "Zambia",
          "Zimbabwe"
         ],
         "lat": {
          "bdata": "AAAAAAAAKcAAAAAAAAAMwAAAAAAAACNAAAAAAAAAKkAAAAAAAAA2wAAAAAAAABxAAAAAAAAAIEAAAAAAAAAYQAAAAAAAAAAAAAAAAAAA8L+FfNCzWVUowAAAAAAAADBAAAAAAAAAJ0AAAAAAAAA8QAAAAAAAADtAAAAAAAAALkAAAAAAAAAgQAAAAAAAAPC/AAAAAAAAIEAAAAAAAAAmQB4Wak3z7ipAAAAAAAAAKEAAAAAAAAAAQAAAAAAAAPA/AAAAAAAAGkAAAAAAAAA5QAAAAAAAgD3AAAAAAAAAQEAAAAAAAAA0wAAAAAAAADFAAAAAAABAMsAAAAAAAAA0QPH0SlmGSDTAAAAAAAAAK8AAAAAAAAA2wAAAAAAAADBAAAAAAAAAJEAAAAAAAAAAwAAAAAAAAC5AAAAAAAAALECutmJ/2d0vwAAAAAAAACFAAAAAAAAAJEAAAAAAAAAgQAAAAAAAAPA/AAAAAACAOsD3Bl+YTFUSwAAAAAAAAC5AAAAAAAAAIEAAAAAAAABBQAAAAAAAABjAAAAAAAAA8D8AAAAAAAA9wAAAAAAAAC7AAAAAAAAANMA=",
          "dtype": "f8"
         },
         "legendgroup": "Africa",
         "lon": {
          "bdata": "AAAAAACAMkAAAAAAAAA+QAAAAAAAAAJAAAAAAAAAAMAAAAAAAAA4QAAAAAAAADVAAAAAAAAAFMAAAAAAAAAoQAAAAAAAADlAAAAAAAAALkAAAAAAACBGQAAAAAAAADjAAAAAAACARUAAAAAAAAAIQAAAAAAAAD5AAAAAAACAQ0AAAAAAAABDQAAAAAAAgCdAAAAAAAAAAMAAAAAAAAAkwKmkTkATkTDAAAAAAAAALsAAAAAAAAAkQAAAAAAAAENAAAAAAAAAI8AAAAAAAAAxQAAAAAAAgDxAAAAAAAAAFMAAAAAAAIBHQAAAAAAAABDAAAAAAACAQUAAAAAAAAAowGZmZmZmxkxAAAAAAAAAQUAAAAAAAAAxQAAAAAAAACBAAAAAAAAAIEAAAAAAAAA+QAAAAAAAAD5AAAAAAAAALMDNzMzMzMwWwAAAAAAAACfAAAAAAACASEAAAAAAAAA+QAAAAAAAABxAAAAAAACAP0AhH/RsVtVLQAAAAAAAADNAJuSDns2q8j8AAAAAAAAiQAAAAAAAgEFAAAAAAAAAQEAAAAAAAAA4QAAAAAAAAD5AAAAAAAAAPkA=",
          "dtype": "f8"
         },
         "marker": {
          "color": "#08a29e",
          "size": {
           "bdata": "lHMmGmQVaD90elL2J1dsPzq0JWw22GE/v4XybuYJUD9YZ//1Y8fAP0zGzaAoZGg/5y9nU5YHaT96vZYR6AtyP7j8aIl+5k8/zpipP1R4cT8z0R4XMr6CP5ViwGUTcLo/70en1wUIkD9cvqOx02p4P8RVLc4WQnQ/EpkdBzQ9Zj+d1agbIs9wP8VKfmH6c5U/IPniSD4VdT/eSvEeflhmP7tLVAxyxHM/jB5KxcnhcD99LkmS9oeGP2ZeIv8PhHg/L6n8BK+vVz/Ix35JlniyP+UQ/cpIAZA/qVXbKyY+oD8azyZk96NiPxHtstz5dVg/R8YtqFXrfD9X8gZvIm6JPxJLfoCQ3MY/3NMhgIL4cT/RQHUm57SwPwq3uRkOjTc/TMPK9YviUz8JYM8kpyKEP1tr3UYnzFY/KzKCEEOIdD+SpUYyPYFFPwxHVAx/8U4/vpBt3Qa3Wj/pk9tNwnlZP7jYd6JxjZs//88Sh87hrz8opOB1tM7cP2LL/s6Qvzw/RlIDmQj+cT9omPH4p2a2P9Iea6Vp1kI/rELkY4z/bD8ACyR3QP2wPzfPtlNWiZE/U7qX9/BIkT8=",
           "dtype": "f8"
          },
          "sizemode": "area",
          "sizeref": 0.00034890958205196544,
          "symbol": "circle"
         },
         "mode": "markers",
         "name": "Africa",
         "showlegend": true,
         "type": "scattergeo"
        },
        {
         "customdata": {
          "bdata": "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",
          "dtype": "f8",
          "shape": "48, 5"
         },
         "geo": "geo",
         "hovertemplate": "<b>%{hovertext}</b><br><br>Continent=Europe<br>Cases per Person=%{customdata[1]:.2%}<br>Total Cases=%{customdata[0]:,}<br>Population=%{customdata[2]:,}<extra></extra>",
         "hovertext": [
          "Albania",
          "Andorra",
          "Austria",
          "Belgium",
          "Bulgaria",
          "Bosnia and Herzegovina",
          "Belarus",
          "Switzerland",
          "Cyprus",
          "Czechia",
          "Germany",
          "Denmark",
          "Spain",
          "Estonia",
          "Finland",
          "France",
          "Faeroe Islands",
          "United Kingdom",
          "Gibraltar",
          "Greece",
          "Croatia",
          "Hungary",
          "Isle of Man",
          "Ireland",
          "Iceland",
          "Italy",
          "Liechtenstein",
          "Lithuania",
          "Luxembourg",
          "Latvia",
          "Monaco",
          "Moldova",
          "North Macedonia",
          "Malta",
          "Montenegro",
          "Netherlands",
          "Norway",
          "Poland",
          "Portugal",
          "Romania",
          "Russia",
          "San Marino",
          "Serbia",
          "Slovakia",
          "Slovenia",
          "Sweden",
          "Ukraine",
          "Vatican"
         ],
         "lat": {
          "bdata": "AAAAAACAREAAAAAAAEBFQN/gC5OpqkdA3+ALk6lqSUAAAAAAAIBFQAAAAAAAAEZAAAAAAACASkAAAAAAAIBHQAAAAAAAgEFAAAAAAADgSEAAAAAAAIBJQAAAAAAAAExAAAAAAAAAREAAAAAAAIBNQAAAAAAAAFBAAAAAAAAAR0AAAAAAAABPQAAAAAAAAEtArK3YX3YXQkAAAAAAAIBDQCEf9GxWlUZAAAAAAACAR0A9CtejcB1LQAAAAAAAgEpAAAAAAABAUEDf4AuTqWpFQCEf9GxWlUdAAAAAAAAATEAAAAAAAOBIQAAAAAAAgExAEhQ/xtzdRUAAAAAAAIBHQN/gC5Op6kRA3+ALk6nqQUAAAAAAAABFQAAAAAAAQEpAAAAAAAAAT0AAAAAAAABKQAAAAAAAwENAAAAAAAAAR0AAAAAAAABOQO7rwDkj4kVAAAAAAAAARkAhH/RsVlVIQAAAAAAAAEdAAAAAAAAAT0AAAAAAAIBIQDMzMzMz80RA",
          "dtype": "f8"
         },
         "legendgroup": "Europe",
         "lon": {
          "bdata": "AAAAAAAANECamZmZmZn5P3uDL0ymqipAAAAAAAAAEEAAAAAAAAA5QAAAAAAAADJAAAAAAAAAPEAAAAAAAAAgQAAAAAAAgEBAAAAAAAAAL0AAAAAAAAAiQAAAAAAAACRAAAAAAAAAEMAAAAAAAAA6QAAAAAAAADpAAAAAAAAAAEAAAAAAAAAcwAAAAAAAAADA1sVtNIB3FcAAAAAAAAA2QAAAAAAAAC9AAAAAAAAANEAzMzMzMzMSwAAAAAAAACDAAAAAAAAAMsB7gy9MpqopQOLplbIMESNAAAAAAAAAOEAJ+aBns6oYQAAAAAAAADlAmpmZmZmZHUAAAAAAAAA9QAAAAAAAADZAe4MvTKYqLUAAAAAAAAAzQAAAAAAAABdAAAAAAAAAJEAAAAAAAAA0QAAAAAAAACDAAAAAAAAAOUAAAAAAAABZQIV80LNZ1ShAAAAAAAAANUAAAAAAAIAzQAAAAAAAAC5AAAAAAAAALkAAAAAAAABAQGZmZmZm5ihA",
          "dtype": "f8"
         },
         "marker": {
          "color": "#a2b458",
          "size": {
           "bdata": "b4+NHwKyuD8l1NkqXvnhP0+u2DoQyd4/KYJ7hqkK1z897KXyq63FP4hhrjEaq70/5/CshVuluj/8zSBLFS/bP3teQh8gxOE/2gVVLLRs1z8rOBhvjsDUP81AL2HEV+E/2cIOJmsz0T/Nh58rOvDbP/O57OIk9sk/fzfMTDGc3D9OfS7E/ZvmP1DjgEmrKNU/EB2d4UwO4j8zYhFGrtfVP52hVsk65tE/GohL5vqMyT99leeYzVfZP9NQDv92RdQ/QUe7LHOU4D/YGabBL+vSPw0w1muxiN0/U5aPT8BX2T+4cItY2LHZPyg/5S8kg9w/5EZu5EZu1D/F03fW8YXAPyCkffS/OsM/m1FXFwwyyD/XJqkokkvYPzNlImz8Tt4/Wr2p05Lb0D9apWe0XlvEP14QAhgHgt8/3k70mMl9wz9ZdHT6gM2/PwiiqWxGYuA/VlZSo7TV0j9cc17AT+fdPzFfjUkBud8/sTK2mVGozz9hEG2etq+9P5IkSZIkSaI/",
           "dtype": "f8"
          },
          "sizemode": "area",
          "sizeref": 0.00034890958205196544,
          "symbol": "circle"
         },
         "mode": "markers",
         "name": "Europe",
         "showlegend": true,
         "type": "scattergeo"
        },
        {
         "customdata": {
          "bdata": "AAAAoJXDYUE+gayXwiPKPwAAAPgdv4VBAAAAAAAAQcAAAAAAAABQwAAAAAAW6ytBOd57x7bKsz8AAAAAzZFmQQAAAAAAADHAAAAAAABAUMAAAACQtyV+Qc+CpfaW6MI/AAAAwo+CqUEAAAAAAAAkwAAAAAAAgEvAAAAAgNyeTUFp8vnsvd3JPwAAAKCEUnJBAAAAAAAAPsAAAAAAAMBRwAAAAEDyY1dBhcdp6XCevj8AAACICXKIQQAAAAAAABBAAAAAAAAAUsAAAAAAxlsrQe6ouViwqKk/AAAAoE0PcUEAAAAAAAAAwAAAAAAAYFPAAAAAAABwm0D3j0gb2drfPwAAAAAAkKtAAAAAAADgScAAAAAAAIBNwAAAAACAOfBAU1N6YrGGtT8AAAAAch4oQQAAAAAAABRAAAAAAACATcAAAAAAFXNLQTfSaHIpnLs/AAAAcGPQf0EAAAAAAAAkwAAAAAAAAFPAAAAAAOjwI0FY94Jgdyu3PwAAAEBuiltBAAAAAAAAN8AAAAAAAABNwAAAAADgt/NAGqoOfgh4wT8AAAAAbA8iQQAAAAAAABBAAAAAAAAATMAAAAAACs4sQdF0AkU/VdE/AAAAAPCWSkEAAAAAAIBAwAAAAAAAAEzAAAAAAC4EIEEUjP7M37iSPwAAADALYHtBAAAAAAAAIEAAAAAAAIBQwA==",
          "dtype": "f8",
          "shape": "13, 5"
         },
         "geo": "geo",
         "hovertemplate": "<b>%{hovertext}</b><br><br>Continent=South America<br>Cases per Person=%{customdata[1]:.2%}<br>Total Cases=%{customdata[0]:,}<br>Population=%{customdata[2]:,}<extra></extra>",
         "hovertext": [
          "Argentina",
          "Bolivia",
          "Brazil",
          "Chile",
          "Colombia",
          "Ecuador",
          "Falkland Islands",
          "Guyana",
          "Peru",
          "Paraguay",
          "Suriname",
          "Uruguay",
          "Venezuela"
         ],
         "lat": {
          "bdata": "AAAAAAAAQcAAAAAAAAAxwAAAAAAAACTAAAAAAAAAPsAAAAAAAAAQQAAAAAAAAADAAAAAAADgScAAAAAAAAAUQAAAAAAAACTAAAAAAAAAN8AAAAAAAAAQQAAAAAAAgEDAAAAAAAAAIEA=",
          "dtype": "f8"
         },
         "legendgroup": "South America",
         "lon": {
          "bdata": "AAAAAAAAUMAAAAAAAEBQwAAAAAAAgEvAAAAAAADAUcAAAAAAAABSwAAAAAAAYFPAAAAAAACATcAAAAAAAIBNwAAAAAAAAFPAAAAAAAAATcAAAAAAAABMwAAAAAAAAEzAAAAAAACAUMA=",
          "dtype": "f8"
         },
         "marker": {
          "color": "#a6cabd",
          "size": {
           "bdata": "PoGsl8Ijyj853nvHtsqzP8+CpfaW6MI/afL57L3dyT+Fx2npcJ6+P+6ouViwqKk/949IG9na3z9TU3pisYa1PzfSaHIpnLs/WPeCYHcrtz8aqg5+CHjBP9F0AkU/VdE/FIz+zN+4kj8=",
           "dtype": "f8"
          },
          "sizemode": "area",
          "sizeref": 0.00034890958205196544,
          "symbol": "circle"
         },
         "mode": "markers",
         "name": "South America",
         "showlegend": true,
         "type": "scattergeo"
        },
        {
         "customdata": {
          "bdata": "AAAAQGbCXUGZkeefWlzTPwAAAJDzl3hBAAAAAAAAO8AAAAAAAKBgQAAAAAAAX7ZASziqv8/b1D8AAAAAACnRQCQofoy5OzXA+zpwzoj4Y8AAAAAAgN7vQF4z0zZpgbI/AAAAAOaNK0EAAAAAAAAywAAAAAAA4GVAAAAAAAAAQ0CGAK7q7Ws1PwAAAADwYfxACfmgZ7OqG0AAAAAAAMhjQAAAAAAAHqlA3x96ufcemz8AAAAAwKL9QCbkg57NqvY/AAAAAACgZUAAAAAAAAAyQPXmoyNqyTM/AAAAAEAc7UAAAAAAAAAiQAAAAAAAAGVAAAAAAEDD7kCf9LCf1PrLPwAAAABklxFBAAAAAACANcAAAAAAALBkQAAAAAAtbjNBh75QiqzLzz8AAAAAJ45TQQAAAAAAgETAAAAAAADAZUAAAAAAAD20QP/hVgy2PtI/AAAAAIC/0UAAAAAAAAAeQAAAAAAA0GBAAAAAACDR5UAEdhYyxxF0PwAAAKCjZGFBAAAAAAAAGMAAAAAAAGBiQAAAAABg2/FAO9/wc3eR0D8AAAAAmD4RQQAAAAAAAC7AAAAAAACAYcAAAAAAAArVQKxDL1hCVp8/AAAAAPZ7JUEAAAAAAAAgwAAAAAAA4GNAAAAAAICXx0Blro9H6/a8PwAAAABwEPpAAAAAAAAANMAAAAAAAOBlwAAAAACANMVAsmPPrVCtoT8AAAAAgDETQQAAAAAAADDAAAAAAADgZEAAAAAAAGB8QOqulr3c86Q/AAAAAACrxUCamZmZmZkqwGZmZmZmBmbAAAAAAIBQzEBW3tCK9YqyPwAAAACAbghBe4MvTKYqK8A4+MJkqoplwA==",
          "dtype": "f8",
          "shape": "16, 5"
         },
         "geo": "geo",
         "hovertemplate": "<b>%{hovertext}</b><br><br>Continent=Oceania<br>Cases per Person=%{customdata[1]:.2%}<br>Total Cases=%{customdata[0]:,}<br>Population=%{customdata[2]:,}<extra></extra>",
         "hovertext": [
          "Australia",
          "Cook Islands",
          "Fiji",
          "Micronesia (country)",
          "Kiribati",
          "Marshall Islands",
          "New Caledonia",
          "New Zealand",
          "Palau",
          "Papua New Guinea",
          "French Polynesia",
          "Solomon Islands",
          "Tonga",
          "Vanuatu",
          "Wallis and Futuna",
          "Samoa"
         ],
         "lat": {
          "bdata": "AAAAAAAAO8AkKH6MuTs1wAAAAAAAADLACfmgZ7OqG0Am5IOezar2PwAAAAAAACJAAAAAAACANcAAAAAAAIBEwAAAAAAAAB5AAAAAAAAAGMAAAAAAAAAuwAAAAAAAACDAAAAAAAAANMAAAAAAAAAwwJqZmZmZmSrAe4MvTKYqK8A=",
          "dtype": "f8"
         },
         "legendgroup": "Oceania",
         "lon": {
          "bdata": "AAAAAACgYED7OnDOiPhjwAAAAAAA4GVAAAAAAADIY0AAAAAAAKBlQAAAAAAAAGVAAAAAAACwZEAAAAAAAMBlQAAAAAAA0GBAAAAAAABgYkAAAAAAAIBhwAAAAAAA4GNAAAAAAADgZcAAAAAAAOBkQGZmZmZmBmbAOPjCZKqKZcA=",
          "dtype": "f8"
         },
         "marker": {
          "color": "#326164",
          "size": {
           "bdata": "mZHnn1pc0z9LOKq/z9vUP14z0zZpgbI/hgCu6u1rNT/fH3q59x6bP/XmoyNqyTM/n/Swn9T6yz+HvlCKrMvPP//hVgy2PtI/BHYWMscRdD873/Bzd5HQP6xDL1hCVp8/Za6PR+v2vD+yY8+tUK2hP+qulr3c86Q/Vt7QivWKsj8=",
           "dtype": "f8"
          },
          "sizemode": "area",
          "sizeref": 0.00034890958205196544,
          "symbol": "circle"
         },
         "mode": "markers",
         "name": "Oceania",
         "showlegend": true,
         "type": "scattergeo"
        }
       ],
       "layout": {
        "font": {
         "color": "#eee"
        },
        "geo": {
         "center": {},
         "coastlinecolor": "#555",
         "countrycolor": "#555",
         "domain": {
          "x": [
           0,
           1
          ],
          "y": [
           0,
           1
          ]
         },
         "landcolor": "#222",
         "projection": {
          "type": "natural earth"
         },
         "scope": "world",
         "showcountries": true,
         "showland": true
        },
        "height": 600,
        "legend": {
         "itemsizing": "constant",
         "title": {
          "text": "Continent"
         },
         "tracegroupgap": 0
        },
        "margin": {
         "b": 0,
         "l": 0,
         "r": 0,
         "t": 60
        },
        "paper_bgcolor": "#111",
        "plot_bgcolor": "#111",
        "template": {
         "data": {
          "bar": [
           {
            "error_x": {
             "color": "#2a3f5f"
            },
            "error_y": {
             "color": "#2a3f5f"
            },
            "marker": {
             "line": {
              "color": "#E5ECF6",
              "width": 0.5
             },
             "pattern": {
              "fillmode": "overlay",
              "size": 10,
              "solidity": 0.2
             }
            },
            "type": "bar"
           }
          ],
          "barpolar": [
           {
            "marker": {
             "line": {
              "color": "#E5ECF6",
              "width": 0.5
             },
             "pattern": {
              "fillmode": "overlay",
              "size": 10,
              "solidity": 0.2
             }
            },
            "type": "barpolar"
           }
          ],
          "carpet": [
           {
            "aaxis": {
             "endlinecolor": "#2a3f5f",
             "gridcolor": "white",
             "linecolor": "white",
             "minorgridcolor": "white",
             "startlinecolor": "#2a3f5f"
            },
            "baxis": {
             "endlinecolor": "#2a3f5f",
             "gridcolor": "white",
             "linecolor": "white",
             "minorgridcolor": "white",
             "startlinecolor": "#2a3f5f"
            },
            "type": "carpet"
           }
          ],
          "choropleth": [
           {
            "colorbar": {
             "outlinewidth": 0,
             "ticks": ""
            },
            "type": "choropleth"
           }
          ],
          "contour": [
           {
            "colorbar": {
             "outlinewidth": 0,
             "ticks": ""
            },
            "colorscale": [
             [
              0,
              "#0d0887"
             ],
             [
              0.1111111111111111,
              "#46039f"
             ],
             [
              0.2222222222222222,
              "#7201a8"
             ],
             [
              0.3333333333333333,
              "#9c179e"
             ],
             [
              0.4444444444444444,
              "#bd3786"
             ],
             [
              0.5555555555555556,
              "#d8576b"
             ],
             [
              0.6666666666666666,
              "#ed7953"
             ],
             [
              0.7777777777777778,
              "#fb9f3a"
             ],
             [
              0.8888888888888888,
              "#fdca26"
             ],
             [
              1,
              "#f0f921"
             ]
            ],
            "type": "contour"
           }
          ],
          "contourcarpet": [
           {
            "colorbar": {
             "outlinewidth": 0,
             "ticks": ""
            },
            "type": "contourcarpet"
           }
          ],
          "heatmap": [
           {
            "colorbar": {
             "outlinewidth": 0,
             "ticks": ""
            },
            "colorscale": [
             [
              0,
              "#0d0887"
             ],
             [
              0.1111111111111111,
              "#46039f"
             ],
             [
              0.2222222222222222,
              "#7201a8"
             ],
             [
              0.3333333333333333,
              "#9c179e"
             ],
             [
              0.4444444444444444,
              "#bd3786"
             ],
             [
              0.5555555555555556,
              "#d8576b"
             ],
             [
              0.6666666666666666,
              "#ed7953"
             ],
             [
              0.7777777777777778,
              "#fb9f3a"
             ],
             [
              0.8888888888888888,
              "#fdca26"
             ],
             [
              1,
              "#f0f921"
             ]
            ],
            "type": "heatmap"
           }
          ],
          "histogram": [
           {
            "marker": {
             "pattern": {
              "fillmode": "overlay",
              "size": 10,
              "solidity": 0.2
             }
            },
            "type": "histogram"
           }
          ],
          "histogram2d": [
           {
            "colorbar": {
             "outlinewidth": 0,
             "ticks": ""
            },
            "colorscale": [
             [
              0,
              "#0d0887"
             ],
             [
              0.1111111111111111,
              "#46039f"
             ],
             [
              0.2222222222222222,
              "#7201a8"
             ],
             [
              0.3333333333333333,
              "#9c179e"
             ],
             [
              0.4444444444444444,
              "#bd3786"
             ],
             [
              0.5555555555555556,
              "#d8576b"
             ],
             [
              0.6666666666666666,
              "#ed7953"
             ],
             [
              0.7777777777777778,
              "#fb9f3a"
             ],
             [
              0.8888888888888888,
              "#fdca26"
             ],
             [
              1,
              "#f0f921"
             ]
            ],
            "type": "histogram2d"
           }
          ],
          "histogram2dcontour": [
           {
            "colorbar": {
             "outlinewidth": 0,
             "ticks": ""
            },
            "colorscale": [
             [
              0,
              "#0d0887"
             ],
             [
              0.1111111111111111,
              "#46039f"
             ],
             [
              0.2222222222222222,
              "#7201a8"
             ],
             [
              0.3333333333333333,
              "#9c179e"
             ],
             [
              0.4444444444444444,
              "#bd3786"
             ],
             [
              0.5555555555555556,
              "#d8576b"
             ],
             [
              0.6666666666666666,
              "#ed7953"
             ],
             [
              0.7777777777777778,
              "#fb9f3a"
             ],
             [
              0.8888888888888888,
              "#fdca26"
             ],
             [
              1,
              "#f0f921"
             ]
            ],
            "type": "histogram2dcontour"
           }
          ],
          "mesh3d": [
           {
            "colorbar": {
             "outlinewidth": 0,
             "ticks": ""
            },
            "type": "mesh3d"
           }
          ],
          "parcoords": [
           {
            "line": {
             "colorbar": {
              "outlinewidth": 0,
              "ticks": ""
             }
            },
            "type": "parcoords"
           }
          ],
          "pie": [
           {
            "automargin": true,
            "type": "pie"
           }
          ],
          "scatter": [
           {
            "fillpattern": {
             "fillmode": "overlay",
             "size": 10,
             "solidity": 0.2
            },
            "type": "scatter"
           }
          ],
          "scatter3d": [
           {
            "line": {
             "colorbar": {
              "outlinewidth": 0,
              "ticks": ""
             }
            },
            "marker": {
             "colorbar": {
              "outlinewidth": 0,
              "ticks": ""
             }
            },
            "type": "scatter3d"
           }
          ],
          "scattercarpet": [
           {
            "marker": {
             "colorbar": {
              "outlinewidth": 0,
              "ticks": ""
             }
            },
            "type": "scattercarpet"
           }
          ],
          "scattergeo": [
           {
            "marker": {
             "colorbar": {
              "outlinewidth": 0,
              "ticks": ""
             }
            },
            "type": "scattergeo"
           }
          ],
          "scattergl": [
           {
            "marker": {
             "colorbar": {
              "outlinewidth": 0,
              "ticks": ""
             }
            },
            "type": "scattergl"
           }
          ],
          "scattermap": [
           {
            "marker": {
             "colorbar": {
              "outlinewidth": 0,
              "ticks": ""
             }
            },
            "type": "scattermap"
           }
          ],
          "scattermapbox": [
           {
            "marker": {
             "colorbar": {
              "outlinewidth": 0,
              "ticks": ""
             }
            },
            "type": "scattermapbox"
           }
          ],
          "scatterpolar": [
           {
            "marker": {
             "colorbar": {
              "outlinewidth": 0,
              "ticks": ""
             }
            },
            "type": "scatterpolar"
           }
          ],
          "scatterpolargl": [
           {
            "marker": {
             "colorbar": {
              "outlinewidth": 0,
              "ticks": ""
             }
            },
            "type": "scatterpolargl"
           }
          ],
          "scatterternary": [
           {
            "marker": {
             "colorbar": {
              "outlinewidth": 0,
              "ticks": ""
             }
            },
            "type": "scatterternary"
           }
          ],
          "surface": [
           {
            "colorbar": {
             "outlinewidth": 0,
             "ticks": ""
            },
            "colorscale": [
             [
              0,
              "#0d0887"
             ],
             [
              0.1111111111111111,
              "#46039f"
             ],
             [
              0.2222222222222222,
              "#7201a8"
             ],
             [
              0.3333333333333333,
              "#9c179e"
             ],
             [
              0.4444444444444444,
              "#bd3786"
             ],
             [
              0.5555555555555556,
              "#d8576b"
             ],
             [
              0.6666666666666666,
              "#ed7953"
             ],
             [
              0.7777777777777778,
              "#fb9f3a"
             ],
             [
              0.8888888888888888,
              "#fdca26"
             ],
             [
              1,
              "#f0f921"
             ]
            ],
            "type": "surface"
           }
          ],
          "table": [
           {
            "cells": {
             "fill": {
              "color": "#EBF0F8"
             },
             "line": {
              "color": "white"
             }
            },
            "header": {
             "fill": {
              "color": "#C8D4E3"
             },
             "line": {
              "color": "white"
             }
            },
            "type": "table"
           }
          ]
         },
         "layout": {
          "annotationdefaults": {
           "arrowcolor": "#2a3f5f",
           "arrowhead": 0,
           "arrowwidth": 1
          },
          "autotypenumbers": "strict",
          "coloraxis": {
           "colorbar": {
            "outlinewidth": 0,
            "ticks": ""
           }
          },
          "colorscale": {
           "diverging": [
            [
             0,
             "#8e0152"
            ],
            [
             0.1,
             "#c51b7d"
            ],
            [
             0.2,
             "#de77ae"
            ],
            [
             0.3,
             "#f1b6da"
            ],
            [
             0.4,
             "#fde0ef"
            ],
            [
             0.5,
             "#f7f7f7"
            ],
            [
             0.6,
             "#e6f5d0"
            ],
            [
             0.7,
             "#b8e186"
            ],
            [
             0.8,
             "#7fbc41"
            ],
            [
             0.9,
             "#4d9221"
            ],
            [
             1,
             "#276419"
            ]
           ],
           "sequential": [
            [
             0,
             "#0d0887"
            ],
            [
             0.1111111111111111,
             "#46039f"
            ],
            [
             0.2222222222222222,
             "#7201a8"
            ],
            [
             0.3333333333333333,
             "#9c179e"
            ],
            [
             0.4444444444444444,
             "#bd3786"
            ],
            [
             0.5555555555555556,
             "#d8576b"
            ],
            [
             0.6666666666666666,
             "#ed7953"
            ],
            [
             0.7777777777777778,
             "#fb9f3a"
            ],
            [
             0.8888888888888888,
             "#fdca26"
            ],
            [
             1,
             "#f0f921"
            ]
           ],
           "sequentialminus": [
            [
             0,
             "#0d0887"
            ],
            [
             0.1111111111111111,
             "#46039f"
            ],
            [
             0.2222222222222222,
             "#7201a8"
            ],
            [
             0.3333333333333333,
             "#9c179e"
            ],
            [
             0.4444444444444444,
             "#bd3786"
            ],
            [
             0.5555555555555556,
             "#d8576b"
            ],
            [
             0.6666666666666666,
             "#ed7953"
            ],
            [
             0.7777777777777778,
             "#fb9f3a"
            ],
            [
             0.8888888888888888,
             "#fdca26"
            ],
            [
             1,
             "#f0f921"
            ]
           ]
          },
          "colorway": [
           "#636efa",
           "#EF553B",
           "#00cc96",
           "#ab63fa",
           "#FFA15A",
           "#19d3f3",
           "#FF6692",
           "#B6E880",
           "#FF97FF",
           "#FECB52"
          ],
          "font": {
           "color": "#2a3f5f"
          },
          "geo": {
           "bgcolor": "white",
           "lakecolor": "white",
           "landcolor": "#E5ECF6",
           "showlakes": true,
           "showland": true,
           "subunitcolor": "white"
          },
          "hoverlabel": {
           "align": "left"
          },
          "hovermode": "closest",
          "mapbox": {
           "style": "light"
          },
          "paper_bgcolor": "white",
          "plot_bgcolor": "#E5ECF6",
          "polar": {
           "angularaxis": {
            "gridcolor": "white",
            "linecolor": "white",
            "ticks": ""
           },
           "bgcolor": "#E5ECF6",
           "radialaxis": {
            "gridcolor": "white",
            "linecolor": "white",
            "ticks": ""
           }
          },
          "scene": {
           "xaxis": {
            "backgroundcolor": "#E5ECF6",
            "gridcolor": "white",
            "gridwidth": 2,
            "linecolor": "white",
            "showbackground": true,
            "ticks": "",
            "zerolinecolor": "white"
           },
           "yaxis": {
            "backgroundcolor": "#E5ECF6",
            "gridcolor": "white",
            "gridwidth": 2,
            "linecolor": "white",
            "showbackground": true,
            "ticks": "",
            "zerolinecolor": "white"
           },
           "zaxis": {
            "backgroundcolor": "#E5ECF6",
            "gridcolor": "white",
            "gridwidth": 2,
            "linecolor": "white",
            "showbackground": true,
            "ticks": "",
            "zerolinecolor": "white"
           }
          },
          "shapedefaults": {
           "line": {
            "color": "#2a3f5f"
           }
          },
          "ternary": {
           "aaxis": {
            "gridcolor": "white",
            "linecolor": "white",
            "ticks": ""
           },
           "baxis": {
            "gridcolor": "white",
            "linecolor": "white",
            "ticks": ""
           },
           "bgcolor": "#E5ECF6",
           "caxis": {
            "gridcolor": "white",
            "linecolor": "white",
            "ticks": ""
           }
          },
          "title": {
           "x": 0.05
          },
          "xaxis": {
           "automargin": true,
           "gridcolor": "white",
           "linecolor": "white",
           "ticks": "",
           "title": {
            "standoff": 15
           },
           "zerolinecolor": "white",
           "zerolinewidth": 2
          },
          "yaxis": {
           "automargin": true,
           "gridcolor": "white",
           "linecolor": "white",
           "ticks": "",
           "title": {
            "standoff": 15
           },
           "zerolinecolor": "white",
           "zerolinewidth": 2
          }
         }
        },
        "title": {
         "text": "COVID-19: Total Reported Cases by Country"
        },
        "width": 1200
       }
      }
     },
     "metadata": {},
     "output_type": "display_data"
    }
   ],
   "source": [
    "import plotly.express as px\n",
    "\n",
    "# --- Latest snapshot per country ---\n",
    "df_c = df[~df[\"iso_code\"].str.startswith(\"OWID_\")].copy()\n",
    "df_c = df_c.sort_values([\"iso_code\",\"date\"])\n",
    "\n",
    "cum_cols = [\n",
    "    \"total_cases\",\"total_deaths\",\"total_tests\",\"total_vaccinations\",\n",
    "    \"people_vaccinated\",\"people_fully_vaccinated\",\"total_boosters\",\"hosp_patients\"\n",
    "]\n",
    "present = [c for c in cum_cols if c in df_c.columns]\n",
    "df_c[present] = df_c.groupby(\"iso_code\")[present].ffill()\n",
    "\n",
    "idx = df_c.groupby(\"iso_code\")[\"date\"].idxmax()\n",
    "last_rows = df_c.loc[idx].copy()\n",
    "\n",
    "countries = last_rows[[\n",
    "    \"iso_code\",\"continent\",\"location\",\"total_cases\",\"population\",\"latitude\",\"longitude\"\n",
    "]].copy()\n",
    "countries = countries[(countries[\"population\"] > 0) & countries[\"total_cases\"].notna()]\n",
    "countries[\"cases_per_capita\"] = countries[\"total_cases\"] / countries[\"population\"]\n",
    "\n",
    "# --- Map plot ---\n",
    "fig = px.scatter_geo(\n",
    "    countries,\n",
    "    lat=\"latitude\", lon=\"longitude\",\n",
    "    color=\"continent\",\n",
    "    hover_name=\"location\",\n",
    "    size=\"cases_per_capita\", size_max=45,\n",
    "    hover_data={\n",
    "        \"total_cases\":\":,\", \n",
    "        \"cases_per_capita\":\":.2%\", \n",
    "        \"population\":\":,\",\n",
    "        \"latitude\":False, \"longitude\":False\n",
    "    },\n",
    "    title=\"COVID-19: Total Reported Cases by Country\",\n",
    "    color_discrete_sequence=palette_plotly,\n",
    "    labels={\n",
    "        \"continent\": \"Continent\",\n",
    "        \"cases_per_capita\": \"Cases per Person\",\n",
    "        \"total_cases\": \"Total Cases\",\n",
    "        \"population\": \"Population\"\n",
    "    }\n",
    ")\n",
    "\n",
    "fig.update_geos(\n",
    "    scope=\"world\",\n",
    "    projection_type=\"natural earth\",\n",
    "    showcountries=True, countrycolor=\"#555\",\n",
    "    showland=True, landcolor=\"#222\",\n",
    "    coastlinecolor=\"#555\"\n",
    ")\n",
    "\n",
    "fig.update_layout(\n",
    "    width=1200, height=600,\n",
    "    paper_bgcolor=\"#111\", plot_bgcolor=\"#111\",\n",
    "    font_color=\"#eee\",\n",
    "    legend_title_text=\"Continent\",\n",
    "    margin=dict(l=0, r=0, t=60, b=0)\n",
    ")\n",
    "\n",
    "fig.show()"
   ]
  },
  {
   "cell_type": "markdown",
   "id": "a0d16bb8",
   "metadata": {},
   "source": [
    "### Visualization details:\n",
    "- **Plotly Express** `scatter_geo` was used for an interactive map.\n",
    "- Circles are scaled by *cases per capita*.\n",
    "- Colors represent **continents**, consistently with our project palette.\n",
    "- Tooltip shows country name, total cases, cases per person, and population.\n",
    "- Map is centered, uses a **dark theme** and displays country borders for better readability."
   ]
  },
  {
   "cell_type": "markdown",
   "id": "a0e52b19",
   "metadata": {},
   "source": [
    "### Result:\n",
    "The map provides a clear, interactive overview of the pandemic’s impact across countries, normalized by population size.  \n",
    "It closes the third notebook with a comprehensive global perspective, setting the stage for further analysis.\n"
   ]
  }
 ],
 "metadata": {
  "kernelspec": {
   "display_name": "Python (hockey)",
   "language": "python",
   "name": "hockey"
  },
  "language_info": {
   "codemirror_mode": {
    "name": "ipython",
    "version": 3
   },
   "file_extension": ".py",
   "mimetype": "text/x-python",
   "name": "python",
   "nbconvert_exporter": "python",
   "pygments_lexer": "ipython3",
   "version": "3.13.5"
  }
 },
 "nbformat": 4,
 "nbformat_minor": 5
}
